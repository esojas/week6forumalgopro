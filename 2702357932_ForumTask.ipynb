{
  "nbformat": 4,
  "nbformat_minor": 0,
  "metadata": {
    "colab": {
      "provenance": []
    },
    "kernelspec": {
      "name": "python3",
      "display_name": "Python 3"
    },
    "language_info": {
      "name": "python"
    }
  },
  "cells": [
    {
      "cell_type": "code",
      "execution_count": null,
      "metadata": {
        "id": "VUDAfPghoXGD"
      },
      "outputs": [],
      "source": [
        "#Forum 1\n",
        "lloyd = {\n",
        " \"name\": \"Lloyd\",\n",
        " \"homework\": [90.0,97.0,75.0,92.0],\n",
        " \"quizzes\": [88.0,40.0,94.0],\n",
        " \"tests\": [75.0,90.0]\n",
        "}\n",
        "alice = {\n",
        " \"name\": \"Alice\",\n",
        " \"homework\": [100.0, 92.0, 98.0, 100.0],\n",
        " \"quizzes\": [82.0, 83.0, 91.0],\n",
        " \"tests\": [89.0, 97.0]\n",
        "}\n",
        "tyler = {\n",
        " \"name\": \"Tyler\",\n",
        " \"homework\": [0.0, 87.0, 75.0, 22.0],\n",
        " \"quizzes\": [0.0, 75.0, 78.0],\n",
        " \"tests\": [100.0, 100.0]\n",
        "}\n",
        "\n",
        "students = [lloyd,alice,tyler]\n",
        "\n",
        "def average(numbers):\n",
        "    total = sum(numbers)\n",
        "    convert = float(total)\n",
        "    divide = convert/len(numbers)\n",
        "    return divide\n",
        "\n",
        "def get_average(student):\n",
        "    homework = average(student['homework'])\n",
        "    quizzes = average(student['quizzes'])\n",
        "    tests = average(student['tests'])\n",
        "    weights = (homework * 0.1)+(quizzes * 0.3)+(tests * 0.6)\n",
        "    return weights\n",
        "\n",
        "#for i in range(len(students)):\n",
        "    #get_average(students[i])\n",
        "\n",
        "def get_letter_grade(score):\n",
        "    if score >= 90:\n",
        "        return \"A\"\n",
        "    elif score >= 80:\n",
        "        return \"B\"\n",
        "    elif score >= 70:\n",
        "        return \"C\"\n",
        "    elif score >= 60:\n",
        "        return \"D\"\n",
        "    else:\n",
        "        return \"F\"\n",
        "\n",
        "#get_letter_grade(get_average(lloyd))\n",
        "def get_class_average(students):\n",
        "    results = []\n",
        "    for i in range(len(students)):\n",
        "        results.append(get_average(students[i]))\n",
        "    return average(results)\n",
        "\n",
        "A = get_letter_grade(get_class_average(students))\n",
        "B = get_class_average(students)\n",
        "print(A)\n",
        "print(B)"
      ]
    },
    {
      "cell_type": "code",
      "source": [
        "#Forum 2\n",
        "keys = (\"COP 2510\",\"EGN 3000L\",\"MAC 2281\",\"MUH 3016\",\"PHY 2048\")\n",
        "dictionary = {keys[0]:\"Programming Concepts\", keys[1]:\"Foundation of Engineering Lab\", keys[2]:\"Calculus I\", keys[3]:\"Survey of Jazz\", keys[4]:\"General Physics I\"}\n",
        "\n",
        "dictionary2 = {keys[0]:\"Z. Beasly\", keys[1]:\"J. Anderson\", keys[2]:\"A. Makaryus\", keys[3]:\"A. Wilkins\", keys[4]:\"G. Pradhan\"}\n",
        "\n",
        "dictionary3 = {keys[0]:\"MW 12:30pm – 1:45pm\", keys[1]:\"TR 11:00am – 12:15pm\", keys[2]:\"MW 9:30am – 10:45am\", keys[3]:\"online asynchronous\", keys[4]:\"TR 5:00pm – 6:15pm\"}\n",
        "\n",
        "search = input(\"Enter a course number: \")\n",
        "for i in range(len(keys)):\n",
        "    if search == keys[i]:\n",
        "        print(f'The course details are:\\n'\n",
        "              f'Course Name: {dictionary.get(search)}\\n'\n",
        "              f'Instructor: {dictionary2.get(search)}\\n'\n",
        "              f'Class Times: {dictionary3.get(search)}')\n",
        "        break\n",
        "else:\n",
        "    print(f'{search} is an invalid course number.')"
      ],
      "metadata": {
        "id": "zli2YbnguPWZ"
      },
      "execution_count": null,
      "outputs": []
    },
    {
      "cell_type": "code",
      "source": [
        "#Forum 3\n",
        "dayinweek = (\"Sunday\", \"Monday\", \"Tuesday\", \"Wednesday\", \"Thursday\", \"Friday\", \"Saturday\")\n",
        "total = []\n",
        "minimum = []\n",
        "maximum = []\n",
        "for i in range(len(dayinweek)):\n",
        "    inputsales = int(input(f\"Enter the sales for {dayinweek[i]} \"))\n",
        "    while inputsales < 0:\n",
        "        print(\"invalid\")\n",
        "        inputsales = int(input(f\"Re-enter the sales for {dayinweek[i]} \"))\n",
        "    total.append(inputsales)\n",
        "total.sort()\n",
        "addingsum = sum(total)\n",
        "formating = '{:,.2f}'.format(addingsum)\n",
        "formating2 = '{:,.2f}'.format(total[0])\n",
        "formating3 = '{:,.2f}'.format(total[-1])\n",
        "print(f'The total sales is: ${(formating)}')\n",
        "print(f'The minimum sale amount was: ${formating2} The maximum sale amount was: ${formating3}')"
      ],
      "metadata": {
        "id": "rxdidIDiuVql"
      },
      "execution_count": null,
      "outputs": []
    },
    {
      "cell_type": "code",
      "source": [
        "#Forum 4\n",
        "code = (\" \",\"--..--\",\".-.-.-\",\"..--..\",\"-----\",\".----\",\"..---\",\"...--\",\"....-\",\".....\",\n",
        "        \"-....\",\"--....\",\"---..\",\"----.\",\".-\",\"-...\",\"-.-.\",\"-..\",\".\",\"..-.\",\n",
        "        \"--.\",\". ...\",\". .\",\".---\",\"-.-\",\".-..\",\"--\",\"-.\",\"---\",\".---.\",\n",
        "        \"--.-\",\".-.\",\"...\",\"-\",\"..-\",\"...-\",\".--\",\"-..-\",\"-.--\",\"--..\")\n",
        "character = (\" \",\",\",\".\",\"?\",\"0\",\"1\",\"2\",\"3\",\"4\",\"5\",\n",
        "             \"6\",\"7\",\"8\",\"9\",\"A\",\"B\",\"C\",\"D\",\"E\",\"F\",\n",
        "             \"G\",\"H\",\"I\",\"J\",\"K\",\"L\",\"M\",\"N\",\"O\",\"P\",\n",
        "             \"Q\",\"R\",\"S\",\"T\",\"U\",\"V\",\"W\",\"X\",\"Y\",\"Z\")\n",
        "translator = input(\"Enter the string to be converted to Morse code: \")\n",
        "convertupper = translator.upper()\n",
        "count = 0\n",
        "for i in range(len(translator)):\n",
        "    for j in range(len(character)):\n",
        "        if convertupper[i] == character[j]:\n",
        "            print(code[j], end=\"\")\n",
        "            break\n",
        "    if convertupper[i] != character[j]:\n",
        "        print(f\"{translator[i]} is  invalid\")"
      ],
      "metadata": {
        "id": "WxWvVZ18uZ7V"
      },
      "execution_count": null,
      "outputs": []
    }
  ]
}